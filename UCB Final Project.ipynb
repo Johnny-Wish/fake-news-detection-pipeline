{
 "cells": [
  {
   "cell_type": "markdown",
   "metadata": {
    "scrolled": true
   },
   "source": [
    "# Themes: UCB Fake News Detector\n",
    "## Group: Hollis lab group 2\n",
    "### Members: Shuheng Liu, Qiaoyi Yin, Yuyuan  Fang\n",
    "____"
   ]
  },
  {
   "cell_type": "markdown",
   "metadata": {},
   "source": [
    "# Getting Set Up\n",
    "\n",
    "#### Tools for preprocessing the raw data.\n",
    "(provided by Shuheng Liu)\n",
    "\n",
    "The following classes `DocumentSequence` and `DocumentEmbedder` can be found in tools.py. We encapsulated different ways of computing embeddings (doc2vec, naive doc2vec, one-hot) and their choices of hyperparameters in these files. Below is a snapshot of these classes their methods.\n",
    "```python\n",
    "class DocumentSequence:\n",
    "    def __init__(self, raw_docs, clean=False, sw=None, punct=None): \n",
    "        \n",
    "    def _set_tokenized(self, clean=False, sw=None, punct=None): \n",
    "\n",
    "    def _set_tagged(self): \n",
    "\n",
    "    def _set_dictionary(self):\n",
    "\n",
    "    def _set_bow(self):\n",
    "\n",
    "    def get_dictionary(self):\n",
    "\n",
    "    def get_tokenized(self):\n",
    "\n",
    "    def get_tagged(self):\n",
    "\n",
    "    def get_bow(self):\n",
    "```\n",
    "        \n",
    "```python\n",
    "\n",
    "class DocumentEmbedder:\n",
    "    def __init__(self, docs: DocumentSequence, pretrained_word2vec=None):\n",
    "\n",
    "    def _set_word2vec(self):\n",
    "\n",
    "    def _set_doc2vec(self, vector_size=300, window=5, min_count=5, dm=1, epochs=20):\n",
    "\n",
    "    def _set_naive_doc2vec(self, normalizer='l2'):\n",
    "\n",
    "    def _set_tfidf(self):\n",
    "\n",
    "    def _set_onehot(self, scorer='tfidf'):\n",
    "\n",
    "    def get_onehot(self, scorer='tfidf'):\n",
    "\n",
    "    def get_doc2vec(self, vectors_size=300, window=5, min_count=5, dm=1, epochs=20):\n",
    "\n",
    "    def get_naive_doc2vec(self, normalizer='l2'):\n",
    "\n",
    "    def get_tfidf_score(self):\n",
    "```\n"
   ]
  },
  {
   "cell_type": "code",
   "execution_count": 1,
   "metadata": {
    "scrolled": false
   },
   "outputs": [
    {
     "name": "stdout",
     "output_type": "stream",
     "text": [
      "[nltk_data] Downloading package gutenberg to\n",
      "[nltk_data]     /Users/liushuheng/nltk_data...\n",
      "[nltk_data]   Package gutenberg is already up-to-date!\n",
      "[nltk_data] Downloading package reuters to\n",
      "[nltk_data]     /Users/liushuheng/nltk_data...\n",
      "[nltk_data]   Package reuters is already up-to-date!\n",
      "[nltk_data] Downloading package stopwords to\n",
      "[nltk_data]     /Users/liushuheng/nltk_data...\n",
      "[nltk_data]   Package stopwords is already up-to-date!\n",
      "[nltk_data] Downloading package punkt to\n",
      "[nltk_data]     /Users/liushuheng/nltk_data...\n",
      "[nltk_data]   Package punkt is already up-to-date!\n",
      "converting raw docs into tokens\n",
      "cleaning up stopwords and punctuations\n",
      "all tokens to be skipped are: {'weren', 't', 'm', 'from', 'y', \"mustn't\", 'mustn', 'other', 'my', 'because', 'again', 'the', 'hasn', \"won't\", 'while', \"it's\", 'both', 'can', '+', 'only', 'at', \"should've\", 'into', 'ourselves', '&', 'd', \"doesn't\", 'when', 'most', 'isn', \"didn't\", 'than', 'they', 'ain', 'were', 'whom', \"don't\", 'any', 'that', '~', 'hers', 'his', 'does', 'as', 'on', 'had', 'being', \"needn't\", 'more', '-', 'do', 'haven', 'him', '`', 'here', \"you've\", 'before', 'below', 'shan', \"weren't\", \"'\", 'then', 'so', \"shan't\", \"you'd\", 'few', \"haven't\", \"shouldn't\", '*', 'what', 'doesn', 'once', 've', 'these', 'have', 'in', 'ours', 'between', '@', 'all', 'off', 'but', 'our', 'a', 'was', 'been', '}', 'through', 'by', 'or', 'nor', 'for', 'is', 'having', 'out', \"hasn't\", 're', 'how', 'couldn', 'he', '%', 'why', 'own', 'which', 'did', 'and', '_', 'such', ',', '.', 'their', 'mightn', '#', 'under', \"wasn't\", 'who', 'i', 'further', 'not', 'didn', '|', 'some', 'should', \"wouldn't\", 'has', 'himself', 'too', 'doing', 'needn', 'this', 'her', \"you'll\", 'me', 'yourselves', '?', ']', 'be', 'will', 'up', 'where', 'll', 'we', \"you're\", 'yours', '=', 'theirs', 'above', 'down', 'about', 'no', '>', 'until', 'don', 'its', 'hadn', '\"', ';', 'yourself', '\\\\', 'itself', 'just', 'she', 'of', 'won', '^', 'to', 'herself', \"that'll\", 'against', '<', '[', 'same', 'there', 'ma', 'your', \"hadn't\", 'shouldn', 'it', \"she's\", 'o', 'an', ':', '!', 'themselves', 'those', \"mightn't\", '/', ')', \"couldn't\", '{', \"isn't\", 'them', 'with', 'am', '$', 'during', 'now', 'if', 'you', 'wouldn', '(', 'over', 'each', 'myself', \"aren't\", 'wasn', 'very', 'aren', 'after', 's', 'are'}\n",
      "listing tagged documents in memory\n",
      "converting raw docs into tokens\n",
      "cleaning up stopwords and punctuations\n",
      "all tokens to be skipped are: {'weren', 't', 'm', 'from', 'y', \"mustn't\", 'mustn', 'other', 'my', 'because', 'again', 'the', 'hasn', \"won't\", 'while', \"it's\", 'both', 'can', '+', 'only', 'at', \"should've\", 'into', 'ourselves', '&', 'd', \"doesn't\", 'when', 'most', 'isn', \"didn't\", 'than', 'they', 'ain', 'were', 'whom', \"don't\", 'any', 'that', '~', 'hers', 'his', 'does', 'as', 'on', 'had', 'being', \"needn't\", 'more', '-', 'do', 'haven', 'him', '`', 'here', \"you've\", 'before', 'below', 'shan', \"weren't\", \"'\", 'then', 'so', \"shan't\", \"you'd\", 'few', \"haven't\", \"shouldn't\", '*', 'what', 'doesn', 'once', 've', 'these', 'have', 'in', 'ours', 'between', '@', 'all', 'off', 'but', 'our', 'a', 'was', 'been', '}', 'through', 'by', 'or', 'nor', 'for', 'is', 'having', 'out', \"hasn't\", 're', 'how', 'couldn', 'he', '%', 'why', 'own', 'which', 'did', 'and', '_', 'such', ',', '.', 'their', 'mightn', '#', 'under', \"wasn't\", 'who', 'i', 'further', 'not', 'didn', '|', 'some', 'should', \"wouldn't\", 'has', 'himself', 'too', 'doing', 'needn', 'this', 'her', \"you'll\", 'me', 'yourselves', '?', ']', 'be', 'will', 'up', 'where', 'll', 'we', \"you're\", 'yours', '=', 'theirs', 'above', 'down', 'about', 'no', '>', 'until', 'don', 'its', 'hadn', '\"', ';', 'yourself', '\\\\', 'itself', 'just', 'she', 'of', 'won', '^', 'to', 'herself', \"that'll\", 'against', '<', '[', 'same', 'there', 'ma', 'your', \"hadn't\", 'shouldn', 'it', \"she's\", 'o', 'an', ':', '!', 'themselves', 'those', \"mightn't\", '/', ')', \"couldn't\", '{', \"isn't\", 'them', 'with', 'am', '$', 'during', 'now', 'if', 'you', 'wouldn', '(', 'over', 'each', 'myself', \"aren't\", 'wasn', 'very', 'aren', 'after', 's', 'are'}\n",
      "listing tagged documents in memory\n"
     ]
    },
    {
     "data": {
      "text/html": [
       "<div>\n",
       "<style>\n",
       "    .dataframe thead tr:only-child th {\n",
       "        text-align: right;\n",
       "    }\n",
       "\n",
       "    .dataframe thead th {\n",
       "        text-align: left;\n",
       "    }\n",
       "\n",
       "    .dataframe tbody tr th {\n",
       "        vertical-align: top;\n",
       "    }\n",
       "</style>\n",
       "<table border=\"1\" class=\"dataframe\">\n",
       "  <thead>\n",
       "    <tr style=\"text-align: right;\">\n",
       "      <th></th>\n",
       "      <th>Unnamed: 0</th>\n",
       "      <th>title</th>\n",
       "      <th>text</th>\n",
       "      <th>label</th>\n",
       "      <th>title_vectors</th>\n",
       "    </tr>\n",
       "  </thead>\n",
       "  <tbody>\n",
       "    <tr>\n",
       "      <th>0</th>\n",
       "      <td>8476</td>\n",
       "      <td>You Can Smell Hillary’s Fear</td>\n",
       "      <td>Daniel Greenfield, a Shillman Journalism Fello...</td>\n",
       "      <td>1</td>\n",
       "      <td>[ 1.1533764e-02  4.2144405e-03  1.9692603e-02 ...</td>\n",
       "    </tr>\n",
       "    <tr>\n",
       "      <th>1</th>\n",
       "      <td>10294</td>\n",
       "      <td>Watch The Exact Moment Paul Ryan Committed Pol...</td>\n",
       "      <td>Google Pinterest Digg Linkedin Reddit Stumbleu...</td>\n",
       "      <td>1</td>\n",
       "      <td>[ 0.11267698  0.02518966 -0.00212591  0.021095...</td>\n",
       "    </tr>\n",
       "    <tr>\n",
       "      <th>2</th>\n",
       "      <td>3608</td>\n",
       "      <td>Kerry to go to Paris in gesture of sympathy</td>\n",
       "      <td>U.S. Secretary of State John F. Kerry said Mon...</td>\n",
       "      <td>0</td>\n",
       "      <td>[ 0.04253004  0.04300297  0.01848392  0.048672...</td>\n",
       "    </tr>\n",
       "    <tr>\n",
       "      <th>3</th>\n",
       "      <td>10142</td>\n",
       "      <td>Bernie supporters on Twitter erupt in anger ag...</td>\n",
       "      <td>— Kaydee King (@KaydeeKing) November 9, 2016 T...</td>\n",
       "      <td>1</td>\n",
       "      <td>[ 0.10801624  0.11583211  0.02874823  0.061732...</td>\n",
       "    </tr>\n",
       "    <tr>\n",
       "      <th>4</th>\n",
       "      <td>875</td>\n",
       "      <td>The Battle of New York: Why This Primary Matters</td>\n",
       "      <td>It's primary day in New York and front-runners...</td>\n",
       "      <td>0</td>\n",
       "      <td>[ 1.69016439e-02  7.13498285e-03 -7.81233795e-...</td>\n",
       "    </tr>\n",
       "  </tbody>\n",
       "</table>\n",
       "</div>"
      ],
      "text/plain": [
       "   Unnamed: 0                                              title  \\\n",
       "0        8476                       You Can Smell Hillary’s Fear   \n",
       "1       10294  Watch The Exact Moment Paul Ryan Committed Pol...   \n",
       "2        3608        Kerry to go to Paris in gesture of sympathy   \n",
       "3       10142  Bernie supporters on Twitter erupt in anger ag...   \n",
       "4         875   The Battle of New York: Why This Primary Matters   \n",
       "\n",
       "                                                text  label  \\\n",
       "0  Daniel Greenfield, a Shillman Journalism Fello...      1   \n",
       "1  Google Pinterest Digg Linkedin Reddit Stumbleu...      1   \n",
       "2  U.S. Secretary of State John F. Kerry said Mon...      0   \n",
       "3  — Kaydee King (@KaydeeKing) November 9, 2016 T...      1   \n",
       "4  It's primary day in New York and front-runners...      0   \n",
       "\n",
       "                                       title_vectors  \n",
       "0  [ 1.1533764e-02  4.2144405e-03  1.9692603e-02 ...  \n",
       "1  [ 0.11267698  0.02518966 -0.00212591  0.021095...  \n",
       "2  [ 0.04253004  0.04300297  0.01848392  0.048672...  \n",
       "3  [ 0.10801624  0.11583211  0.02874823  0.061732...  \n",
       "4  [ 1.69016439e-02  7.13498285e-03 -7.81233795e-...  "
      ]
     },
     "execution_count": 1,
     "metadata": {},
     "output_type": "execute_result"
    }
   ],
   "source": [
    "import pandas as pd\n",
    "from string import punctuation\n",
    "from nltk.corpus import stopwords\n",
    "\n",
    "df = pd.read_csv(\"./fake_or_real_news.csv\")\n",
    "\n",
    "# obtain the raw news texts and titles\n",
    "raw_text = df['text'].values\n",
    "raw_title = df['title'].values\n",
    "df['label'] = df['label'].apply(lambda label: 1 if label == \"FAKE\" else 0)\n",
    "\n",
    "# build two instances for preprocessing raw data\n",
    "from tools import DocumentSequence\n",
    "texts = DocumentSequence(raw_text, clean=True, sw=stopwords.words('english'), punct=punctuation)\n",
    "titles = DocumentSequence(raw_title, clean=True, sw=stopwords.words('english'), punct=punctuation)\n",
    "\n",
    "df.head()"
   ]
  },
  {
   "cell_type": "markdown",
   "metadata": {},
   "source": [
    "# Get embeddings\n",
    "### Embeddings that we have:  (see README.md in our github repo)\n",
    "\n",
    "| Embeddings | Parameters Tried| \n",
    "| ------ | ------ | \n",
    "| Dov2Vec | Min_count = 5/25/50| Win_size = 13/23| DBOW/DM | epochs=100/200/500|\n",
    "|\n",
    "| Naive D2V | Normalizer = L2/Mean/None | \n",
    "|\n",
    "| One-Hot Sum |Rawcount/TF-IDF| Normalizer = L2/None | \n",
    "|\n",
    "| Bigrams | TF-IDF |\n",
    "|\n",
    "| Attention is all you need | To be implemented |\n",
    "|\n",
    "| FastText | To be implemented |\n",
    "\n",
    "## URL for different embeddings precomputed on cloud\n",
    "- [all computed embeddings and labels](https://www.floydhub.com/wish1104/datasets/fake-news-embeddings), see list below\n",
    "- [onehot title & text (sparse matrix)](https://www.floydhub.com/wish1104/projects/fake-news/33/output), scorer: \n",
    "raw-count\n",
    "- [onehot title & text (sparse matrix)](https://www.floydhub.com/wish1104/projects/fake-news/35/output), scorer: \n",
    "raw-count, L2-normalized\n",
    "- [onehot title & text (sparse matrix)](https://www.floydhub.com/wish1104/projects/fake-news/38/output), scorer: \n",
    "tfidf\n",
    "- [onehot title & text (sparse matrix)](https://www.floydhub.com/wish1104/projects/fake-news/41/output), scorer: \n",
    "tfidf, L2-normalized\n",
    "- [naive doc2vec title](https://www.floydhub.com/wish1104/projects/fake-news/19/output), normalizer: {L2, mean, None}\n",
    "- [naive doc2vec text](https://www.floydhub.com/wish1104/projects/fake-news/20/output), normalizer: {L2, mean, None}\n",
    "- [doc2vec title](https://www.floydhub.com/wish1104/projects/fake-news/21/output), window_size: 13, \n",
    "min_count:{5, 25, 50}, strategy: {DM, DBOW}, epochs: 100; all six combinations tried\n",
    "- [doc2vec text](https://www.floydhub.com/wish1104/projects/fake-news/22/output), window_size: 13, \n",
    "min_count:{5, 25, 50}, strategy: {DM, DBOW}, epochs: 100; all six combinations tried\n",
    "- [doc2vec title](https://www.floydhub.com/wish1104/projects/fake-news/88/output), window_size: {13, 23}, min_count: 5, \n",
    "strategy: DBOW, epochs: {200, 500}; all four combinations tried\n",
    "- [doc2vec text](https://www.floydhub.com/wish1104/projects/fake-news/88/output), window_size: {13. 23}, min_count: 5, \n",
    "strategy: DBOW, epochs: {200, 500}; all four combinations tried"
   ]
  },
  {
   "cell_type": "code",
   "execution_count": 4,
   "metadata": {},
   "outputs": [],
   "source": [
    "from tools import DocumentEmbedder\n",
    "\n",
    "try:\n",
    "    from embedding_loader import EmbeddingLoader\n",
    "\n",
    "    loader = EmbeddingLoader(\"embeddings/\")\n",
    "    news_embeddings = loader.get_d2v(\"concat\", vec_size=300, win_size=13, min_count=5, dm=0, epochs=100)\n",
    "    labels = loader.get_label()\n",
    "\n",
    "except FileNotFoundError as e:\n",
    "    print(e)\n",
    "    print(\"Cannot find existing embeddings, computing new ones now\")\n",
    "\n",
    "    pretrained = \"./pretrained/GoogleNews-vectors-negative300.bin\"\n",
    "    text_embedder = DocumentEmbedder(texts, pretrained_word2vec=pretrained)\n",
    "    title_embedder = DocumentEmbedder(titles, pretrained_word2vec=pretrained)\n",
    "\n",
    "    text_embeddings = text_embedder.get_doc2vec(vectors_size=300, window=13, min_count=5, dm=0, epochs=100)\n",
    "    title_embeddings = title_embedder.get_doc2vec(vectors_size=300, window=13, min_count=5, dm=0, epochs=100)\n",
    "    \n",
    "    # concatenate title vectors and text vectors\n",
    "    news_embeddings = np.concatenate((title_embeddings, text_embeddings), axis=1)\n",
    "    labels = df['label'].values\n"
   ]
  },
  {
   "cell_type": "markdown",
   "metadata": {},
   "source": [
    "#### Visualizing the news embeddings\n",
    "(with visualize_embeddings.embedding_visualizer provided by Shuheng Liu. \n",
    "Tensorflow needed)"
   ]
  },
  {
   "cell_type": "markdown",
   "metadata": {},
   "source": [
    "## Visualizing the embeddings"
   ]
  },
  {
   "cell_type": "code",
   "execution_count": 3,
   "metadata": {
    "scrolled": true
   },
   "outputs": [
    {
     "name": "stdout",
     "output_type": "stream",
     "text": [
      "WARNING:tensorflow:From /Users/liushuheng/anaconda/envs/py3.6/lib/python3.6/site-packages/tensorflow/contrib/learn/python/learn/datasets/base.py:198: retry (from tensorflow.contrib.learn.python.learn.datasets.base) is deprecated and will be removed in a future version.\n",
      "Instructions for updating:\n",
      "Use the retry module or similar alternatives.\n",
      "WARNING: potential error due to tensorboard version conflicts\n",
      "currently setting metadata_path to metadata.tsv. Due to tensorboard version reasons, if prompted 'metadata not found' when visiting tensorboard server page, please manually edit metadata_path in projector_config.pbtxt to visual/metadata.tsv or the absolute path for `metadata.tsv` and restart tensorboard\n",
      "If your tensorboard version is 1.7.0, you probably should not worry about this\n",
      "Embeddings are available now. Please start your tensorboard server with commandline `tensorboard --logdir visual` and visit http://localhost:6006 to see the visualization\n"
     ]
    }
   ],
   "source": [
    "from embedding_visualizer import visualize_embeddings\n",
    "\n",
    "# visualize the news embeddings in the graph\n",
    "# MUST run in command line \"tensorboard --logdir visual/\" and visit localhost:6006 to see the visualization\n",
    "visualize_embeddings(embedding_values=news_embeddings, label_values=labels, texts = raw_title)"
   ]
  },
  {
   "cell_type": "code",
   "execution_count": 4,
   "metadata": {},
   "outputs": [
    {
     "name": "stdout",
     "output_type": "stream",
     "text": [
      "visit https://localhost:6006 to see the result\n"
     ]
    }
   ],
   "source": [
    "print(\"visit https://localhost:6006 to see the result\")\n",
    "\n",
    "# !tensorboard --logdir visual/ \n",
    "# ATTENTION: This cell must be manually stopped"
   ]
  },
  {
   "cell_type": "markdown",
   "metadata": {},
   "source": [
    "Some screenshots of the tensorboard are shown below. We visuallize the embeddings of documents with T-SNE projection on 3D and 2D spaces. Each red data point indicates a piece of FAKE news, and each blue one indicates a piece of real news. These two categories are well-separated as can be seen from the visualization."
   ]
  },
  {
   "cell_type": "markdown",
   "metadata": {},
   "source": [
    "### 2D visualization (red for fake, blue for real)"
   ]
  },
  {
   "cell_type": "markdown",
   "metadata": {},
   "source": [
    "![a](resources/T-SNE 2D.jpg)"
   ]
  },
  {
   "cell_type": "markdown",
   "metadata": {},
   "source": [
    "### 3D visualization (red for fake, blue for real)"
   ]
  },
  {
   "cell_type": "markdown",
   "metadata": {},
   "source": [
    "![a](resources/T-SNE 3D.jpg)"
   ]
  },
  {
   "cell_type": "markdown",
   "metadata": {},
   "source": [
    "#### Visualizing bigram words statistics"
   ]
  },
  {
   "cell_type": "code",
   "execution_count": 5,
   "metadata": {
    "scrolled": false
   },
   "outputs": [
    {
     "name": "stdout",
     "output_type": "stream",
     "text": [
      "converting raw docs into tokens\n",
      "cleaning up stopwords and punctuations\n",
      "all tokens to be skipped are: {'weren', 't', 'm', 'from', 'y', \"mustn't\", 'mustn', 'other', 'my', 'because', 'again', 'the', 'hasn', \"won't\", 'while', \"it's\", 'both', 'can', '+', 'only', 'at', \"should've\", 'into', 'ourselves', '&', 'd', \"doesn't\", 'when', 'most', 'isn', \"didn't\", 'than', 'they', 'ain', 'were', 'whom', \"don't\", 'any', 'that', '~', 'hers', 'his', 'does', 'as', 'on', 'had', 'being', \"needn't\", 'more', '-', 'do', 'haven', 'him', '`', 'here', \"you've\", 'before', 'below', 'shan', \"weren't\", \"'\", 'then', 'so', \"shan't\", \"you'd\", 'few', \"haven't\", \"shouldn't\", '*', 'what', 'doesn', 'once', 've', 'these', 'have', 'in', 'ours', 'between', '@', 'all', 'off', 'but', 'our', 'a', 'was', 'been', '}', 'through', 'by', 'or', 'nor', 'for', 'is', 'having', 'out', \"hasn't\", 're', 'how', 'couldn', 'he', '%', 'why', 'own', 'which', 'did', 'and', '_', 'such', ',', '.', 'their', 'mightn', '#', 'under', \"wasn't\", 'who', 'i', 'further', 'not', 'didn', '|', 'some', 'should', \"wouldn't\", 'has', 'himself', 'too', 'doing', 'needn', 'this', 'her', \"you'll\", 'me', 'yourselves', '?', ']', 'be', 'will', 'up', 'where', 'll', 'we', \"you're\", 'yours', '=', 'theirs', 'above', 'down', 'about', 'no', '>', 'until', 'don', 'its', 'hadn', '\"', ';', 'yourself', '\\\\', 'itself', 'just', 'she', 'of', 'won', '^', 'to', 'herself', \"that'll\", 'against', '<', '[', 'same', 'there', 'ma', 'your', \"hadn't\", 'shouldn', 'it', \"she's\", 'o', 'an', ':', '!', 'themselves', 'those', \"mightn't\", '/', ')', \"couldn't\", '{', \"isn't\", 'them', 'with', 'am', '$', 'during', 'now', 'if', 'you', 'wouldn', '(', 'over', 'each', 'myself', \"aren't\", 'wasn', 'very', 'aren', 'after', 's', 'are'}\n",
      "listing tagged documents in memory\n",
      "converting raw docs into tokens\n",
      "cleaning up stopwords and punctuations\n",
      "all tokens to be skipped are: {'weren', 't', 'm', 'from', 'y', \"mustn't\", 'mustn', 'other', 'my', 'because', 'again', 'the', 'hasn', \"won't\", 'while', \"it's\", 'both', 'can', '+', 'only', 'at', \"should've\", 'into', 'ourselves', '&', 'd', \"doesn't\", 'when', 'most', 'isn', \"didn't\", 'than', 'they', 'ain', 'were', 'whom', \"don't\", 'any', 'that', '~', 'hers', 'his', 'does', 'as', 'on', 'had', 'being', \"needn't\", 'more', '-', 'do', 'haven', 'him', '`', 'here', \"you've\", 'before', 'below', 'shan', \"weren't\", \"'\", 'then', 'so', \"shan't\", \"you'd\", 'few', \"haven't\", \"shouldn't\", '*', 'what', 'doesn', 'once', 've', 'these', 'have', 'in', 'ours', 'between', '@', 'all', 'off', 'but', 'our', 'a', 'was', 'been', '}', 'through', 'by', 'or', 'nor', 'for', 'is', 'having', 'out', \"hasn't\", 're', 'how', 'couldn', 'he', '%', 'why', 'own', 'which', 'did', 'and', '_', 'such', ',', '.', 'their', 'mightn', '#', 'under', \"wasn't\", 'who', 'i', 'further', 'not', 'didn', '|', 'some', 'should', \"wouldn't\", 'has', 'himself', 'too', 'doing', 'needn', 'this', 'her', \"you'll\", 'me', 'yourselves', '?', ']', 'be', 'will', 'up', 'where', 'll', 'we', \"you're\", 'yours', '=', 'theirs', 'above', 'down', 'about', 'no', '>', 'until', 'don', 'its', 'hadn', '\"', ';', 'yourself', '\\\\', 'itself', 'just', 'she', 'of', 'won', '^', 'to', 'herself', \"that'll\", 'against', '<', '[', 'same', 'there', 'ma', 'your', \"hadn't\", 'shouldn', 'it', \"she's\", 'o', 'an', ':', '!', 'themselves', 'those', \"mightn't\", '/', ')', \"couldn't\", '{', \"isn't\", 'them', 'with', 'am', '$', 'during', 'now', 'if', 'you', 'wouldn', '(', 'over', 'each', 'myself', \"aren't\", 'wasn', 'very', 'aren', 'after', 's', 'are'}\n",
      "listing tagged documents in memory\n"
     ]
    }
   ],
   "source": [
    "import itertools\n",
    "import nltk\n",
    "import numpy as np\n",
    "import matplotlib.pyplot as plt\n",
    "from collections import Counter\n",
    "\n",
    "## Get tokenized words of fake news and real news independently\n",
    "real_text = df[df['label'] == 0]['text'].values\n",
    "fake_text = df[df['label'] == 1]['text'].values\n",
    "fake_words = DocumentSequence(real_text, clean=True, sw=stopwords.words('english'), punct=punctuation)\n",
    "real_words = DocumentSequence(fake_text, clean=True, sw=stopwords.words('english'), punct=punctuation)\n",
    "\n",
    "## Get cleaned text using chain\n",
    "real_words_all = list(itertools.chain(*real_words.get_tokenized()))\n",
    "fake_words_all = list(itertools.chain(*fake_words.get_tokenized()))\n",
    "\n",
    "## Drawing histogram\n",
    "def plot_most_common_words(num_to_show,words_list,title = \"\"):\n",
    "    bigrams = nltk.bigrams(words_list)\n",
    "    counter = Counter(bigrams)\n",
    "    labels = [\" \".join(e[0]) for e in counter.most_common(num_to_show)]\n",
    "    values = [e[1] for e in counter.most_common(num_to_show)]\n",
    "\n",
    "    indexes = np.arange(len(labels))\n",
    "    width = 1\n",
    "    \n",
    "    plt.title(title)\n",
    "    plt.barh(indexes, values, width)\n",
    "    plt.yticks(indexes + width * 0.2, labels)\n",
    "    plt.show()"
   ]
  },
  {
   "cell_type": "code",
   "execution_count": 6,
   "metadata": {
    "scrolled": true
   },
   "outputs": [
    {
     "data": {
      "image/png": "[encoded data removed]",
      "text/plain": [
       "<matplotlib.figure.Figure at 0x107a696d8>"
      ]
     },
     "metadata": {},
     "output_type": "display_data"
    }
   ],
   "source": [
    "plot_most_common_words(20, fake_words_all, \"Fake News Most Frequent words\")"
   ]
  },
  {
   "cell_type": "code",
   "execution_count": 7,
   "metadata": {},
   "outputs": [
    {
     "data": {
      "image/png": "[encoded data removed]",
      "text/plain": [
       "<matplotlib.figure.Figure at 0x118a670f0>"
      ]
     },
     "metadata": {},
     "output_type": "display_data"
    }
   ],
   "source": [
    "plot_most_common_words(20, real_words_all, \"Real News Most Frequent words\")"
   ]
  },
  {
   "cell_type": "markdown",
   "metadata": {},
   "source": [
    "# Classification process"
   ]
  },
  {
   "cell_type": "markdown",
   "metadata": {},
   "source": [
    "### For Doc2Vec:"
   ]
  },
  {
   "cell_type": "markdown",
   "metadata": {},
   "source": [
    "#### Split the dataset (with 75% of data for 5-fold Randomsearching, 25% for testing)"
   ]
  },
  {
   "cell_type": "code",
   "execution_count": 6,
   "metadata": {},
   "outputs": [],
   "source": [
    "from sklearn.model_selection import RandomizedSearchCV, train_test_split\n",
    "from sklearn.model_selection._search import BaseSearchCV\n",
    "import pickle as pkl\n",
    "\n",
    "# perform the split which gets us the train data and the test data\n",
    "news_train, news_test, labels_train, labels_test = train_test_split(news_embeddings, labels,\n",
    "                                                                    test_size=0.25,\n",
    "                                                                    random_state=0,\n",
    "                                                                    stratify=labels)"
   ]
  },
  {
   "cell_type": "markdown",
   "metadata": {},
   "source": [
    "#### Classifier score and comparement \n",
    "We used RandomSearch on different datasets to get the best hyper-parameters.    \n",
    "The following exhibits every classifier with almost optimal parameters in our experiments.   \n",
    "The RandomSearch process is omitted."
   ]
  },
  {
   "cell_type": "code",
   "execution_count": null,
   "metadata": {},
   "outputs": [],
   "source": [
    "import warnings\n",
    "# Ignore some unimportant warnings\n",
    "warnings.filterwarnings(\"ignore\") \n",
    "                        \n",
    "from mlxtend.classifier import EnsembleVoteClassifier\n",
    "\n",
    "from sklearn.metrics import classification_report\n",
    "from sklearn import model_selection\n",
    "from sklearn.naive_bayes import GaussianNB\n",
    "from sklearn.ensemble import GradientBoostingClassifier\n",
    "from scipy.stats import randint\n",
    "from scipy.stats.distributions import uniform\n",
    "from sklearn.neighbors import KNeighborsClassifier\n",
    "from sklearn.linear_model import LogisticRegression\n",
    "from sklearn.neural_network import MLPClassifier\n",
    "from sklearn.discriminant_analysis import QuadraticDiscriminantAnalysis\n",
    "from sklearn.ensemble import RandomForestClassifier\n",
    "from sklearn.svm import SVC\n",
    "import numpy as np\n",
    "\n",
    "# MLP classifier\n",
    "mlp = MLPClassifier(activation='relu', alpha=0.01, batch_size='auto', beta_1=0.8,\n",
    "                    beta_2=0.9, early_stopping=False, epsilon=1e-08,\n",
    "                    hidden_layer_sizes=(600, 300), learning_rate='constant',\n",
    "                    learning_rate_init=0.0001, max_iter=200, momentum=0.9,\n",
    "                    nesterovs_momentum=True, power_t=0.5, random_state=0, shuffle=True,\n",
    "                    solver='adam', tol=0.0001, validation_fraction=0.1, verbose=False,\n",
    "                    warm_start=False)\n",
    "\n",
    "# KNN classifier\n",
    "knn = KNeighborsClassifier(algorithm='auto', leaf_size=30, metric='cosine',\n",
    "                           metric_params=None, n_jobs=1, n_neighbors=10, p=2,\n",
    "                           weights='distance')\n",
    "\n",
    "# QDA classifier\n",
    "qda = QuadraticDiscriminantAnalysis(priors=np.array([0.5, 0.5]),\n",
    "                                    reg_param=0.6531083254653984, store_covariance=False,\n",
    "                                    store_covariances=None, tol=0.0001)\n",
    "\n",
    "# GDB classifier\n",
    "gdb = GradientBoostingClassifier(criterion='friedman_mse', init=None,\n",
    "                                 learning_rate=0.1, loss='exponential', max_depth=10,\n",
    "                                 max_features='log2', max_leaf_nodes=None,\n",
    "                                 min_impurity_decrease=0.0, min_impurity_split=None,\n",
    "                                 min_samples_leaf=0.0012436966435001434,\n",
    "                                 min_samples_split=100, min_weight_fraction_leaf=0.0,\n",
    "                                 n_estimators=200, presort='auto', random_state=0,\n",
    "                                 subsample=0.8, verbose=0, warm_start=False)\n",
    "\n",
    "# SVC classifier\n",
    "svc = SVC(C=0.8, cache_size=200, class_weight=None, coef0=0.0,\n",
    "          decision_function_shape='ovr', degree=3, gamma='auto', kernel='rbf',\n",
    "          max_iter=-1, probability=True, random_state=0, shrinking=True,\n",
    "          tol=0.001, verbose=False)\n",
    "\n",
    "# GNB classifier\n",
    "gnb = GaussianNB(priors=None)\n",
    "\n",
    "# RF classifier\n",
    "rf = RandomForestClassifier(bootstrap=False, class_weight=None,\n",
    "                            criterion='entropy', max_depth=10, max_features=7,\n",
    "                            max_leaf_nodes=None, min_impurity_decrease=0.0,\n",
    "                            min_impurity_split=None, min_samples_leaf=9,\n",
    "                            min_samples_split=6, min_weight_fraction_leaf=0.0,\n",
    "                            n_estimators=50, n_jobs=1, oob_score=False, random_state=None,\n",
    "                            verbose=0, warm_start=False)\n",
    "\n",
    "\n",
    "# All the parameters of the classifiers above are optimal in our experiments\n",
    "# The list below is used to store every classifier instance\n",
    "classifiers_list = [mlp, knn, qda, gdb, svc, gnb, rf]\n",
    "classifiers_labels = ['MultiplePercetron', 'KNeighbours', 'QuadraticDiscriminantAnalysis', 'GradientBoosting', 'SVC', 'GaussianNB', 'RandomForest']"
   ]
  },
  {
   "cell_type": "markdown",
   "metadata": {},
   "source": [
    "### Histogram of scores achieved by different classifiers\n",
    "We list the best-performing hyperparameters in the following chart."
   ]
  },
  {
   "cell_type": "code",
   "execution_count": 10,
   "metadata": {},
   "outputs": [
    {
     "name": "stdout",
     "output_type": "stream",
     "text": [
      "MLPClassifier(activation='relu', alpha=0.01, batch_size='auto', beta_1=0.8,\n",
      "       beta_2=0.9, early_stopping=False, epsilon=1e-08,\n",
      "       hidden_layer_sizes=(600, 300), learning_rate='constant',\n",
      "       learning_rate_init=0.0001, max_iter=200, momentum=0.9,\n",
      "       nesterovs_momentum=True, power_t=0.5, random_state=0, shuffle=True,\n",
      "       solver='adam', tol=0.0001, validation_fraction=0.1, verbose=False,\n",
      "       warm_start=False)\n",
      "             precision    recall  f1-score   support\n",
      "\n",
      "       Real      0.936     0.943     0.940       793\n",
      "       Fake      0.943     0.936     0.939       791\n",
      "\n",
      "avg / total      0.939     0.939     0.939      1584\n",
      "\n",
      "KNeighborsClassifier(algorithm='auto', leaf_size=30, metric='cosine',\n",
      "           metric_params=None, n_jobs=1, n_neighbors=10, p=2,\n",
      "           weights='distance')\n",
      "             precision    recall  f1-score   support\n",
      "\n",
      "       Real      0.837     0.895     0.865       793\n",
      "       Fake      0.887     0.826     0.855       791\n",
      "\n",
      "avg / total      0.862     0.860     0.860      1584\n",
      "\n",
      "QuadraticDiscriminantAnalysis(priors=array([ 0.5,  0.5]),\n",
      "               reg_param=0.6531083254653984, store_covariance=False,\n",
      "               store_covariances=None, tol=0.0001)\n",
      "             precision    recall  f1-score   support\n",
      "\n",
      "       Real      0.891     0.956     0.922       793\n",
      "       Fake      0.952     0.882     0.916       791\n",
      "\n",
      "avg / total      0.921     0.919     0.919      1584\n",
      "\n",
      "GradientBoostingClassifier(criterion='friedman_mse', init=None,\n",
      "              learning_rate=0.1, loss='exponential', max_depth=10,\n",
      "              max_features='log2', max_leaf_nodes=None,\n",
      "              min_impurity_decrease=0.0, min_impurity_split=None,\n",
      "              min_samples_leaf=0.0012436966435001434,\n",
      "              min_samples_split=100, min_weight_fraction_leaf=0.0,\n",
      "              n_estimators=200, presort='auto', random_state=0,\n",
      "              subsample=0.8, verbose=0, warm_start=False)\n",
      "             precision    recall  f1-score   support\n",
      "\n",
      "       Real      0.883     0.850     0.866       793\n",
      "       Fake      0.855     0.887     0.871       791\n",
      "\n",
      "avg / total      0.869     0.869     0.869      1584\n",
      "\n",
      "SVC(C=0.8, cache_size=200, class_weight=None, coef0=0.0,\n",
      "  decision_function_shape='ovr', degree=3, gamma='auto', kernel='rbf',\n",
      "  max_iter=-1, probability=False, random_state=0, shrinking=True,\n",
      "  tol=0.001, verbose=False)\n",
      "             precision    recall  f1-score   support\n",
      "\n",
      "       Real      0.939     0.926     0.932       793\n",
      "       Fake      0.926     0.939     0.933       791\n",
      "\n",
      "avg / total      0.933     0.932     0.932      1584\n",
      "\n",
      "GaussianNB(priors=None)\n",
      "             precision    recall  f1-score   support\n",
      "\n",
      "       Real      0.840     0.754     0.795       793\n",
      "       Fake      0.776     0.856     0.814       791\n",
      "\n",
      "avg / total      0.808     0.805     0.804      1584\n",
      "\n",
      "RandomForestClassifier(bootstrap=False, class_weight=None,\n",
      "            criterion='entropy', max_depth=10, max_features=7,\n",
      "            max_leaf_nodes=None, min_impurity_decrease=0.0,\n",
      "            min_impurity_split=None, min_samples_leaf=9,\n",
      "            min_samples_split=6, min_weight_fraction_leaf=0.0,\n",
      "            n_estimators=50, n_jobs=1, oob_score=False, random_state=None,\n",
      "            verbose=0, warm_start=False)\n",
      "             precision    recall  f1-score   support\n",
      "\n",
      "       Real      0.830     0.765     0.797       793\n",
      "       Fake      0.782     0.843     0.811       791\n",
      "\n",
      "avg / total      0.806     0.804     0.804      1584\n",
      "\n"
     ]
    }
   ],
   "source": [
    "from sklearn.metrics import classification_report\n",
    "\n",
    "# print details of testing results\n",
    "for model in classifiers_list:\n",
    "    model.fit(news_train, labels_train)\n",
    "    labels_pred = model.predict(news_test)\n",
    "    \n",
    "    # Report the metrics\n",
    "    target_names = ['Real', 'Fake']\n",
    "    print(str(model))\n",
    "    print(classification_report(y_true=labels_test, y_pred=labels_pred, target_names=target_names, digits=3))"
   ]
  },
  {
   "cell_type": "markdown",
   "metadata": {},
   "source": [
    "![a](resources/models_with_best_performance.jpg)"
   ]
  },
  {
   "cell_type": "markdown",
   "metadata": {},
   "source": [
    "### Ensemble learning in the experiment\n",
    "Besides, we used ensemble vote classifier to model the train data and try to obtain a better prediction from ensemble learning."
   ]
  },
  {
   "cell_type": "code",
   "execution_count": 1,
   "metadata": {},
   "outputs": [
    {
     "ename": "NameError",
     "evalue": "name 'classifiers_list' is not defined",
     "output_type": "error",
     "traceback": [
      "\u001b[1;31m---------------------------------------------------------------------------\u001b[0m",
      "\u001b[1;31mNameError\u001b[0m                                 Traceback (most recent call last)",
      "\u001b[1;32m<ipython-input-1-ccf365e1bb17>\u001b[0m in \u001b[0;36m<module>\u001b[1;34m()\u001b[0m\n\u001b[0;32m      1\u001b[0m \u001b[1;32mfrom\u001b[0m \u001b[0mmodel\u001b[0m\u001b[1;33m.\u001b[0m\u001b[0mensemble_learning\u001b[0m \u001b[1;32mimport\u001b[0m \u001b[0mEnsembleLearning\u001b[0m\u001b[1;33m\u001b[0m\u001b[0m\n\u001b[0;32m      2\u001b[0m \u001b[1;31m# build ensemble vote classifier\u001b[0m\u001b[1;33m\u001b[0m\u001b[1;33m\u001b[0m\u001b[0m\n\u001b[1;32m----> 3\u001b[1;33m \u001b[0mensemble_instance\u001b[0m \u001b[1;33m=\u001b[0m \u001b[0mEnsembleLearning\u001b[0m\u001b[1;33m(\u001b[0m\u001b[0mclassifiers_list\u001b[0m\u001b[1;33m,\u001b[0m \u001b[0mclassifiers_labels\u001b[0m\u001b[1;33m)\u001b[0m\u001b[1;33m\u001b[0m\u001b[0m\n\u001b[0m\u001b[0;32m      4\u001b[0m \u001b[1;31m# carry out cross validation and predict the result\u001b[0m\u001b[1;33m\u001b[0m\u001b[1;33m\u001b[0m\u001b[0m\n\u001b[0;32m      5\u001b[0m \u001b[0mensemble_instance\u001b[0m\u001b[1;33m.\u001b[0m\u001b[0mensemble_vote_classifier\u001b[0m\u001b[1;33m(\u001b[0m\u001b[0mnews_train\u001b[0m\u001b[1;33m,\u001b[0m \u001b[0mlabels_train\u001b[0m\u001b[1;33m,\u001b[0m \u001b[0mnews_test\u001b[0m\u001b[1;33m,\u001b[0m \u001b[0mlabels_test\u001b[0m\u001b[1;33m)\u001b[0m\u001b[1;33m\u001b[0m\u001b[0m\n",
      "\u001b[1;31mNameError\u001b[0m: name 'classifiers_list' is not defined"
     ]
    }
   ],
   "source": [
    "from model.ensemble_learning import EnsembleLearning\n",
    "# build ensemble vote classifier\n",
    "ensemble_instance = EnsembleLearning(classifiers_list, classifiers_labels)\n",
    "# carry out cross validation and predict the result\n",
    "ensemble_instance.ensemble_vote_classifier(news_train, labels_train, news_test, labels_test)"
   ]
  },
  {
   "cell_type": "markdown",
   "metadata": {},
   "source": [
    "### For TF-IDF:\n",
    "Getting sparse matrix"
   ]
  },
  {
   "cell_type": "code",
   "execution_count": 11,
   "metadata": {
    "collapsed": true
   },
   "outputs": [],
   "source": [
    "def bow2sparse(tfidf, corpus):\n",
    "    rows = [index for index, line in enumerate(corpus) for _ in tfidf[line]]\n",
    "    cols = [elem[0] for line in corpus for elem in tfidf[line]]\n",
    "    data = [elem[1] for line in corpus for elem in tfidf[line]]\n",
    "    return csr_matrix((data, (rows, cols)))"
   ]
  },
  {
   "cell_type": "code",
   "execution_count": 12,
   "metadata": {},
   "outputs": [
    {
     "name": "stdout",
     "output_type": "stream",
     "text": [
      "dictionary is not set for <tools.DocumentSequence object at 0x117be7b38>, setting dictionary automatically\n"
     ]
    }
   ],
   "source": [
    "from gensim import corpora, models\n",
    "from scipy.sparse import csr_matrix \n",
    "\n",
    "tfidf = models.TfidfModel(texts.get_bow())\n",
    "tfidf_matrix = bow2sparse(tfidf, texts.get_bow())\n",
    "\n",
    "## split the data\n",
    "news_train, news_test, labels_train, labels_test = train_test_split(tfidf_matrix, \n",
    "                                                                    labels,\n",
    "                                                                    test_size=0.25,\n",
    "                                                                    random_state=0)"
   ]
  },
  {
   "cell_type": "code",
   "execution_count": 13,
   "metadata": {},
   "outputs": [
    {
     "name": "stdout",
     "output_type": "stream",
     "text": [
      "LogisticRegression(C=104.31438384172546, class_weight=None, dual=False,\n",
      "          fit_intercept=True, intercept_scaling=1, max_iter=100,\n",
      "          multi_class='ovr', n_jobs=1, penalty='l2', random_state=None,\n",
      "          solver='liblinear', tol=0.0001, verbose=0, warm_start=False)\n",
      "             precision    recall  f1-score   support\n",
      "\n",
      "       Real      0.956     0.938     0.947       817\n",
      "       Fake      0.935     0.954     0.945       767\n",
      "\n",
      "avg / total      0.946     0.946     0.946      1584\n",
      "\n",
      "MultinomialNB(alpha=0.01977091215797838, class_prior=None, fit_prior=True)\n",
      "             precision    recall  f1-score   support\n",
      "\n",
      "       Real      0.896     0.942     0.919       817\n",
      "       Fake      0.935     0.884     0.909       767\n",
      "\n",
      "avg / total      0.915     0.914     0.914      1584\n",
      "\n"
     ]
    }
   ],
   "source": [
    "from sklearn.linear_model import LogisticRegression\n",
    "from sklearn.naive_bayes import MultinomialNB\n",
    "\n",
    "# LogisticRegression\n",
    "lg = LogisticRegression(C=104.31438384172546, penalty = 'l2')\n",
    "\n",
    "# Naive Bayes\n",
    "nb = MultinomialNB(alpha = 0.01977091215797838)\n",
    "\n",
    "classifiers_list = [lg, nb]\n",
    "\n",
    "from sklearn.metrics import classification_report\n",
    "\n",
    "# print details of testing results\n",
    "for model in classifiers_list:\n",
    "    model.fit(news_train, labels_train)\n",
    "    labels_pred = model.predict(news_test)\n",
    "    \n",
    "    # Report the metrics\n",
    "    target_names = ['Real', 'Fake']\n",
    "    print(str(model))\n",
    "    print(classification_report(y_true=labels_test, y_pred=labels_pred, target_names=target_names, digits=3))"
   ]
  },
  {
   "cell_type": "markdown",
   "metadata": {},
   "source": [
    "#### Using coeffient to see what is important"
   ]
  },
  {
   "cell_type": "code",
   "execution_count": 14,
   "metadata": {
    "collapsed": true
   },
   "outputs": [],
   "source": [
    "# LogisticRegression\n",
    "lg = LogisticRegression(C=104.31438384172546, penalty = 'l2')\n",
    "\n",
    "# Using whole data set\n",
    "lg.fit(tfidf_matrix, labels)\n",
    "\n",
    "## map the coeffients with word and sort the coeffients\n",
    "abs_features = []\n",
    "num_features = tfidf_matrix.shape[0]\n",
    "for i in range(num_features):\n",
    "    coef = lg.coef_[0,i]\n",
    "    abs_features.append(((coef), texts.get_dictionary()[i]))\n",
    "        \n",
    "sorted_result = sorted(abs_features, reverse = True)\n",
    "fake_importance = [x for x in sorted_result if x[0] > 3]\n",
    "real_importance = [x for x in sorted_result if x[0] < -4]"
   ]
  },
  {
   "cell_type": "code",
   "execution_count": 15,
   "metadata": {
    "collapsed": true
   },
   "outputs": [],
   "source": [
    "from wordcloud import WordCloud, STOPWORDS\n",
    "\n",
    "def print_wordcloud(df, title=''):\n",
    "    wordcloud = WordCloud(stopwords=STOPWORDS, background_color='white', width=1200, height=1000).generate(\n",
    "        \" \".join(df['word'].values))\n",
    "    plt.imshow(wordcloud)\n",
    "    plt.title(title)\n",
    "    plt.axis('off')\n",
    "    plt.show()"
   ]
  },
  {
   "cell_type": "markdown",
   "metadata": {},
   "source": [
    "Words  with inclination to predict 'FAKE' news"
   ]
  },
  {
   "cell_type": "code",
   "execution_count": 16,
   "metadata": {
    "scrolled": false
   },
   "outputs": [
    {
     "data": {
      "text/html": [
       "<div>\n",
       "<style>\n",
       "    .dataframe thead tr:only-child th {\n",
       "        text-align: right;\n",
       "    }\n",
       "\n",
       "    .dataframe thead th {\n",
       "        text-align: left;\n",
       "    }\n",
       "\n",
       "    .dataframe tbody tr th {\n",
       "        vertical-align: top;\n",
       "    }\n",
       "</style>\n",
       "<table border=\"1\" class=\"dataframe\">\n",
       "  <thead>\n",
       "    <tr style=\"text-align: right;\">\n",
       "      <th></th>\n",
       "      <th>importance</th>\n",
       "      <th>word</th>\n",
       "    </tr>\n",
       "  </thead>\n",
       "  <tbody>\n",
       "    <tr>\n",
       "      <th>0</th>\n",
       "      <td>13.781102</td>\n",
       "      <td>0</td>\n",
       "    </tr>\n",
       "    <tr>\n",
       "      <th>1</th>\n",
       "      <td>13.562957</td>\n",
       "      <td>2016</td>\n",
       "    </tr>\n",
       "    <tr>\n",
       "      <th>2</th>\n",
       "      <td>13.490582</td>\n",
       "      <td>october</td>\n",
       "    </tr>\n",
       "    <tr>\n",
       "      <th>3</th>\n",
       "      <td>13.062496</td>\n",
       "      <td>hillary</td>\n",
       "    </tr>\n",
       "    <tr>\n",
       "      <th>4</th>\n",
       "      <td>11.192181</td>\n",
       "      <td>‘</td>\n",
       "    </tr>\n",
       "    <tr>\n",
       "      <th>5</th>\n",
       "      <td>9.829864</td>\n",
       "      <td>article</td>\n",
       "    </tr>\n",
       "    <tr>\n",
       "      <th>6</th>\n",
       "      <td>9.411360</td>\n",
       "      <td>election</td>\n",
       "    </tr>\n",
       "    <tr>\n",
       "      <th>7</th>\n",
       "      <td>8.903777</td>\n",
       "      <td>november</td>\n",
       "    </tr>\n",
       "    <tr>\n",
       "      <th>8</th>\n",
       "      <td>8.181044</td>\n",
       "      <td>share</td>\n",
       "    </tr>\n",
       "    <tr>\n",
       "      <th>9</th>\n",
       "      <td>7.564924</td>\n",
       "      <td>print</td>\n",
       "    </tr>\n",
       "    <tr>\n",
       "      <th>10</th>\n",
       "      <td>7.507189</td>\n",
       "      <td>source</td>\n",
       "    </tr>\n",
       "    <tr>\n",
       "      <th>11</th>\n",
       "      <td>7.418819</td>\n",
       "      <td>via</td>\n",
       "    </tr>\n",
       "    <tr>\n",
       "      <th>12</th>\n",
       "      <td>7.150410</td>\n",
       "      <td>fbi</td>\n",
       "    </tr>\n",
       "    <tr>\n",
       "      <th>13</th>\n",
       "      <td>6.939386</td>\n",
       "      <td>establishment</td>\n",
       "    </tr>\n",
       "    <tr>\n",
       "      <th>14</th>\n",
       "      <td>6.752492</td>\n",
       "      <td>us</td>\n",
       "    </tr>\n",
       "    <tr>\n",
       "      <th>15</th>\n",
       "      <td>6.549759</td>\n",
       "      <td>please</td>\n",
       "    </tr>\n",
       "    <tr>\n",
       "      <th>16</th>\n",
       "      <td>6.421927</td>\n",
       "      <td>28</td>\n",
       "    </tr>\n",
       "    <tr>\n",
       "      <th>17</th>\n",
       "      <td>6.111584</td>\n",
       "      <td>wikileaks</td>\n",
       "    </tr>\n",
       "    <tr>\n",
       "      <th>18</th>\n",
       "      <td>5.914297</td>\n",
       "      <td>russia</td>\n",
       "    </tr>\n",
       "    <tr>\n",
       "      <th>19</th>\n",
       "      <td>5.777677</td>\n",
       "      <td>4</td>\n",
       "    </tr>\n",
       "    <tr>\n",
       "      <th>20</th>\n",
       "      <td>5.701762</td>\n",
       "      <td>›</td>\n",
       "    </tr>\n",
       "    <tr>\n",
       "      <th>21</th>\n",
       "      <td>5.701082</td>\n",
       "      <td>email</td>\n",
       "    </tr>\n",
       "    <tr>\n",
       "      <th>22</th>\n",
       "      <td>5.633363</td>\n",
       "      <td>war</td>\n",
       "    </tr>\n",
       "    <tr>\n",
       "      <th>23</th>\n",
       "      <td>5.461951</td>\n",
       "      <td>corporate</td>\n",
       "    </tr>\n",
       "    <tr>\n",
       "      <th>24</th>\n",
       "      <td>5.432547</td>\n",
       "      <td>26</td>\n",
       "    </tr>\n",
       "    <tr>\n",
       "      <th>25</th>\n",
       "      <td>5.248264</td>\n",
       "      <td>photo</td>\n",
       "    </tr>\n",
       "    <tr>\n",
       "      <th>26</th>\n",
       "      <td>5.205658</td>\n",
       "      <td>1</td>\n",
       "    </tr>\n",
       "    <tr>\n",
       "      <th>27</th>\n",
       "      <td>5.178585</td>\n",
       "      <td>healthcare</td>\n",
       "    </tr>\n",
       "    <tr>\n",
       "      <th>28</th>\n",
       "      <td>5.066447</td>\n",
       "      <td>google</td>\n",
       "    </tr>\n",
       "    <tr>\n",
       "      <th>29</th>\n",
       "      <td>5.055815</td>\n",
       "      <td>free</td>\n",
       "    </tr>\n",
       "  </tbody>\n",
       "</table>\n",
       "</div>"
      ],
      "text/plain": [
       "    importance           word\n",
       "0    13.781102              0\n",
       "1    13.562957           2016\n",
       "2    13.490582        october\n",
       "3    13.062496        hillary\n",
       "4    11.192181              ‘\n",
       "5     9.829864        article\n",
       "6     9.411360       election\n",
       "7     8.903777       november\n",
       "8     8.181044          share\n",
       "9     7.564924          print\n",
       "10    7.507189         source\n",
       "11    7.418819            via\n",
       "12    7.150410            fbi\n",
       "13    6.939386  establishment\n",
       "14    6.752492             us\n",
       "15    6.549759         please\n",
       "16    6.421927             28\n",
       "17    6.111584      wikileaks\n",
       "18    5.914297         russia\n",
       "19    5.777677              4\n",
       "20    5.701762              ›\n",
       "21    5.701082          email\n",
       "22    5.633363            war\n",
       "23    5.461951      corporate\n",
       "24    5.432547             26\n",
       "25    5.248264          photo\n",
       "26    5.205658              1\n",
       "27    5.178585     healthcare\n",
       "28    5.066447         google\n",
       "29    5.055815           free"
      ]
     },
     "execution_count": 16,
     "metadata": {},
     "output_type": "execute_result"
    }
   ],
   "source": [
    "df2 = pd.DataFrame(fake_importance, columns=['importance', 'word'])\n",
    "df2.head(30)"
   ]
  },
  {
   "cell_type": "code",
   "execution_count": 17,
   "metadata": {
    "scrolled": false
   },
   "outputs": [
    {
     "data": {
      "image/png": "[encoded data removed]",
      "text/plain": [
       "<matplotlib.figure.Figure at 0x112457588>"
      ]
     },
     "metadata": {},
     "output_type": "display_data"
    }
   ],
   "source": [
    "print_wordcloud(df2,'FAKE NEWS')"
   ]
  },
  {
   "cell_type": "markdown",
   "metadata": {},
   "source": [
    "Words with inclination to predict 'REAL' news"
   ]
  },
  {
   "cell_type": "code",
   "execution_count": 18,
   "metadata": {
    "scrolled": false
   },
   "outputs": [
    {
     "data": {
      "text/html": [
       "<div>\n",
       "<style>\n",
       "    .dataframe thead tr:only-child th {\n",
       "        text-align: right;\n",
       "    }\n",
       "\n",
       "    .dataframe thead th {\n",
       "        text-align: left;\n",
       "    }\n",
       "\n",
       "    .dataframe tbody tr th {\n",
       "        vertical-align: top;\n",
       "    }\n",
       "</style>\n",
       "<table border=\"1\" class=\"dataframe\">\n",
       "  <thead>\n",
       "    <tr style=\"text-align: right;\">\n",
       "      <th></th>\n",
       "      <th>importance</th>\n",
       "      <th>word</th>\n",
       "    </tr>\n",
       "  </thead>\n",
       "  <tbody>\n",
       "    <tr>\n",
       "      <th>48</th>\n",
       "      <td>-5.819761</td>\n",
       "      <td>march</td>\n",
       "    </tr>\n",
       "    <tr>\n",
       "      <th>49</th>\n",
       "      <td>-5.820939</td>\n",
       "      <td>state</td>\n",
       "    </tr>\n",
       "    <tr>\n",
       "      <th>50</th>\n",
       "      <td>-5.911077</td>\n",
       "      <td>attacks</td>\n",
       "    </tr>\n",
       "    <tr>\n",
       "      <th>51</th>\n",
       "      <td>-5.911102</td>\n",
       "      <td>deal</td>\n",
       "    </tr>\n",
       "    <tr>\n",
       "      <th>52</th>\n",
       "      <td>-5.918800</td>\n",
       "      <td>monday</td>\n",
       "    </tr>\n",
       "    <tr>\n",
       "      <th>53</th>\n",
       "      <td>-5.937717</td>\n",
       "      <td>saturday</td>\n",
       "    </tr>\n",
       "    <tr>\n",
       "      <th>54</th>\n",
       "      <td>-6.068661</td>\n",
       "      <td>president</td>\n",
       "    </tr>\n",
       "    <tr>\n",
       "      <th>55</th>\n",
       "      <td>-6.108548</td>\n",
       "      <td>conservatives</td>\n",
       "    </tr>\n",
       "    <tr>\n",
       "      <th>56</th>\n",
       "      <td>-6.197634</td>\n",
       "      <td>sanders</td>\n",
       "    </tr>\n",
       "    <tr>\n",
       "      <th>57</th>\n",
       "      <td>-6.316225</td>\n",
       "      <td>continue</td>\n",
       "    </tr>\n",
       "    <tr>\n",
       "      <th>58</th>\n",
       "      <td>-6.577535</td>\n",
       "      <td>``</td>\n",
       "    </tr>\n",
       "    <tr>\n",
       "      <th>59</th>\n",
       "      <td>-6.595120</td>\n",
       "      <td>polarization</td>\n",
       "    </tr>\n",
       "    <tr>\n",
       "      <th>60</th>\n",
       "      <td>-6.629481</td>\n",
       "      <td>fox</td>\n",
       "    </tr>\n",
       "    <tr>\n",
       "      <th>61</th>\n",
       "      <td>-6.644741</td>\n",
       "      <td>gop</td>\n",
       "    </tr>\n",
       "    <tr>\n",
       "      <th>62</th>\n",
       "      <td>-6.681231</td>\n",
       "      <td>ohio</td>\n",
       "    </tr>\n",
       "    <tr>\n",
       "      <th>63</th>\n",
       "      <td>-6.899471</td>\n",
       "      <td>convention</td>\n",
       "    </tr>\n",
       "    <tr>\n",
       "      <th>64</th>\n",
       "      <td>-7.051062</td>\n",
       "      <td>jobs</td>\n",
       "    </tr>\n",
       "    <tr>\n",
       "      <th>65</th>\n",
       "      <td>-7.260832</td>\n",
       "      <td>debate</td>\n",
       "    </tr>\n",
       "    <tr>\n",
       "      <th>66</th>\n",
       "      <td>-7.274652</td>\n",
       "      <td>friday</td>\n",
       "    </tr>\n",
       "    <tr>\n",
       "      <th>67</th>\n",
       "      <td>-7.580725</td>\n",
       "      <td>tuesday</td>\n",
       "    </tr>\n",
       "    <tr>\n",
       "      <th>68</th>\n",
       "      <td>-7.847131</td>\n",
       "      <td>cruz</td>\n",
       "    </tr>\n",
       "    <tr>\n",
       "      <th>69</th>\n",
       "      <td>-8.058610</td>\n",
       "      <td>candidates</td>\n",
       "    </tr>\n",
       "    <tr>\n",
       "      <th>70</th>\n",
       "      <td>-8.348688</td>\n",
       "      <td>conservative</td>\n",
       "    </tr>\n",
       "    <tr>\n",
       "      <th>71</th>\n",
       "      <td>-8.440797</td>\n",
       "      <td>says</td>\n",
       "    </tr>\n",
       "    <tr>\n",
       "      <th>72</th>\n",
       "      <td>-8.828907</td>\n",
       "      <td>islamic</td>\n",
       "    </tr>\n",
       "    <tr>\n",
       "      <th>73</th>\n",
       "      <td>-10.438137</td>\n",
       "      <td>—</td>\n",
       "    </tr>\n",
       "    <tr>\n",
       "      <th>74</th>\n",
       "      <td>-10.851531</td>\n",
       "      <td>--</td>\n",
       "    </tr>\n",
       "    <tr>\n",
       "      <th>75</th>\n",
       "      <td>-14.864650</td>\n",
       "      <td>''</td>\n",
       "    </tr>\n",
       "    <tr>\n",
       "      <th>76</th>\n",
       "      <td>-14.912260</td>\n",
       "      <td>said</td>\n",
       "    </tr>\n",
       "    <tr>\n",
       "      <th>77</th>\n",
       "      <td>-16.351588</td>\n",
       "      <td>'s</td>\n",
       "    </tr>\n",
       "  </tbody>\n",
       "</table>\n",
       "</div>"
      ],
      "text/plain": [
       "    importance           word\n",
       "48   -5.819761          march\n",
       "49   -5.820939          state\n",
       "50   -5.911077        attacks\n",
       "51   -5.911102           deal\n",
       "52   -5.918800         monday\n",
       "53   -5.937717       saturday\n",
       "54   -6.068661      president\n",
       "55   -6.108548  conservatives\n",
       "56   -6.197634        sanders\n",
       "57   -6.316225       continue\n",
       "58   -6.577535             ``\n",
       "59   -6.595120   polarization\n",
       "60   -6.629481            fox\n",
       "61   -6.644741            gop\n",
       "62   -6.681231           ohio\n",
       "63   -6.899471     convention\n",
       "64   -7.051062           jobs\n",
       "65   -7.260832         debate\n",
       "66   -7.274652         friday\n",
       "67   -7.580725        tuesday\n",
       "68   -7.847131           cruz\n",
       "69   -8.058610     candidates\n",
       "70   -8.348688   conservative\n",
       "71   -8.440797           says\n",
       "72   -8.828907        islamic\n",
       "73  -10.438137              —\n",
       "74  -10.851531             --\n",
       "75  -14.864650             ''\n",
       "76  -14.912260           said\n",
       "77  -16.351588             's"
      ]
     },
     "execution_count": 18,
     "metadata": {},
     "output_type": "execute_result"
    }
   ],
   "source": [
    "df3 = pd.DataFrame(real_importance, columns=['importance', 'word'])\n",
    "df3.tail(30)"
   ]
  },
  {
   "cell_type": "code",
   "execution_count": 19,
   "metadata": {
    "scrolled": true
   },
   "outputs": [
    {
     "data": {
      "image/png": "[encoded data removed]",
      "text/plain": [
       "<matplotlib.figure.Figure at 0x118e6cac8>"
      ]
     },
     "metadata": {},
     "output_type": "display_data"
    }
   ],
   "source": [
    "print_wordcloud(df3,'REAL NEWS')"
   ]
  },
  {
   "cell_type": "code",
   "execution_count": null,
   "metadata": {
    "collapsed": true
   },
   "outputs": [],
   "source": []
  }
 ],
 "metadata": {
  "kernelspec": {
   "display_name": "Python 3",
   "language": "python",
   "name": "python3"
  },
  "language_info": {
   "codemirror_mode": {
    "name": "ipython",
    "version": 3
   },
   "file_extension": ".py",
   "mimetype": "text/x-python",
   "name": "python",
   "nbconvert_exporter": "python",
   "pygments_lexer": "ipython3",
   "version": "3.6.4"
  }
 },
 "nbformat": 4,
 "nbformat_minor": 2
}
